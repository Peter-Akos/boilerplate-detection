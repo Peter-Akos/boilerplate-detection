{
 "cells": [
  {
   "cell_type": "code",
   "execution_count": 1,
   "id": "bd4ee39b-070d-498f-955c-21e43b129ec6",
   "metadata": {},
   "outputs": [
    {
     "name": "stderr",
     "output_type": "stream",
     "text": [
      "/var/folders/00/ft6n0snn3g5gtsxj0z9n8lhh0000gp/T/ipykernel_20564/2960853757.py:1: DeprecationWarning: \n",
      "Pyarrow will become a required dependency of pandas in the next major release of pandas (pandas 3.0),\n",
      "(to allow more performant data types, such as the Arrow string type, and better interoperability with other libraries)\n",
      "but was not found to be installed on your system.\n",
      "If this would cause problems for you,\n",
      "please provide us feedback at https://github.com/pandas-dev/pandas/issues/54466\n",
      "        \n",
      "  import pandas as pd\n"
     ]
    }
   ],
   "source": [
    "import pandas as pd\n",
    "import ast\n",
    "import numpy as np\n",
    "from tqdm import tqdm"
   ]
  },
  {
   "cell_type": "code",
   "execution_count": 25,
   "id": "f2d73c5a-d1b7-4a82-9014-0714bbc50638",
   "metadata": {},
   "outputs": [],
   "source": [
    "df = pd.read_csv(\"results_v2.csv\")"
   ]
  },
  {
   "cell_type": "code",
   "execution_count": 26,
   "id": "8a87d50f-8ae9-41fa-b81a-1cebb7ed4f64",
   "metadata": {},
   "outputs": [
    {
     "data": {
      "text/html": [
       "<div>\n",
       "<style scoped>\n",
       "    .dataframe tbody tr th:only-of-type {\n",
       "        vertical-align: middle;\n",
       "    }\n",
       "\n",
       "    .dataframe tbody tr th {\n",
       "        vertical-align: top;\n",
       "    }\n",
       "\n",
       "    .dataframe thead th {\n",
       "        text-align: right;\n",
       "    }\n",
       "</style>\n",
       "<table border=\"1\" class=\"dataframe\">\n",
       "  <thead>\n",
       "    <tr style=\"text-align: right;\">\n",
       "      <th></th>\n",
       "      <th>filename</th>\n",
       "      <th>node_name</th>\n",
       "      <th>tags</th>\n",
       "      <th>graph_embedding</th>\n",
       "      <th>text</th>\n",
       "      <th>label</th>\n",
       "      <th>embedded_texts</th>\n",
       "    </tr>\n",
       "  </thead>\n",
       "  <tbody>\n",
       "    <tr>\n",
       "      <th>0</th>\n",
       "      <td>cleaneval/prepared_html/ce_1.html</td>\n",
       "      <td>span_0</td>\n",
       "      <td>{'div': 0, 'center': 0, 'table': 0, 'tbody': 0...</td>\n",
       "      <td>[ 2.66596258e-01  2.19546929e-02  1.64745390e-...</td>\n",
       "      <td>Las Vegas Realtor - House Sell - Sales - Real ...</td>\n",
       "      <td>0</td>\n",
       "      <td>[-0.05825778469443321, -0.05459720641374588, -...</td>\n",
       "    </tr>\n",
       "    <tr>\n",
       "      <th>1</th>\n",
       "      <td>cleaneval/prepared_html/ce_1.html</td>\n",
       "      <td>span_1</td>\n",
       "      <td>{'div': 0, 'center': 0, 'table': 1, 'tbody': 1...</td>\n",
       "      <td>[ 0.43698856 -0.47383237  0.22595443  0.004418...</td>\n",
       "      <td>Home</td>\n",
       "      <td>0</td>\n",
       "      <td>[-0.08070644736289978, -0.043665092438459396, ...</td>\n",
       "    </tr>\n",
       "    <tr>\n",
       "      <th>2</th>\n",
       "      <td>cleaneval/prepared_html/ce_1.html</td>\n",
       "      <td>span_2</td>\n",
       "      <td>{'div': 0, 'center': 0, 'table': 1, 'tbody': 1...</td>\n",
       "      <td>[ 0.4270207  -0.54548746  0.23394041 -0.111042...</td>\n",
       "      <td>|</td>\n",
       "      <td>0</td>\n",
       "      <td>[-0.046702198684215546, -0.02059364505112171, ...</td>\n",
       "    </tr>\n",
       "    <tr>\n",
       "      <th>3</th>\n",
       "      <td>cleaneval/prepared_html/ce_1.html</td>\n",
       "      <td>span_3</td>\n",
       "      <td>{'div': 0, 'center': 0, 'table': 1, 'tbody': 1...</td>\n",
       "      <td>[ 0.78561485 -0.698475    0.44287145 -0.314255...</td>\n",
       "      <td>Current House Value</td>\n",
       "      <td>0</td>\n",
       "      <td>[-0.026915384456515312, -0.07351666688919067, ...</td>\n",
       "    </tr>\n",
       "    <tr>\n",
       "      <th>4</th>\n",
       "      <td>cleaneval/prepared_html/ce_1.html</td>\n",
       "      <td>span_4</td>\n",
       "      <td>{'div': 0, 'center': 0, 'table': 1, 'tbody': 1...</td>\n",
       "      <td>[ 0.4832072  -0.5486914   0.2184332  -0.156697...</td>\n",
       "      <td>|</td>\n",
       "      <td>0</td>\n",
       "      <td>[-0.046702198684215546, -0.02059364505112171, ...</td>\n",
       "    </tr>\n",
       "  </tbody>\n",
       "</table>\n",
       "</div>"
      ],
      "text/plain": [
       "                            filename node_name  \\\n",
       "0  cleaneval/prepared_html/ce_1.html    span_0   \n",
       "1  cleaneval/prepared_html/ce_1.html    span_1   \n",
       "2  cleaneval/prepared_html/ce_1.html    span_2   \n",
       "3  cleaneval/prepared_html/ce_1.html    span_3   \n",
       "4  cleaneval/prepared_html/ce_1.html    span_4   \n",
       "\n",
       "                                                tags  \\\n",
       "0  {'div': 0, 'center': 0, 'table': 0, 'tbody': 0...   \n",
       "1  {'div': 0, 'center': 0, 'table': 1, 'tbody': 1...   \n",
       "2  {'div': 0, 'center': 0, 'table': 1, 'tbody': 1...   \n",
       "3  {'div': 0, 'center': 0, 'table': 1, 'tbody': 1...   \n",
       "4  {'div': 0, 'center': 0, 'table': 1, 'tbody': 1...   \n",
       "\n",
       "                                     graph_embedding  \\\n",
       "0  [ 2.66596258e-01  2.19546929e-02  1.64745390e-...   \n",
       "1  [ 0.43698856 -0.47383237  0.22595443  0.004418...   \n",
       "2  [ 0.4270207  -0.54548746  0.23394041 -0.111042...   \n",
       "3  [ 0.78561485 -0.698475    0.44287145 -0.314255...   \n",
       "4  [ 0.4832072  -0.5486914   0.2184332  -0.156697...   \n",
       "\n",
       "                                                text  label  \\\n",
       "0  Las Vegas Realtor - House Sell - Sales - Real ...      0   \n",
       "1                                               Home      0   \n",
       "2                                                  |      0   \n",
       "3                                Current House Value      0   \n",
       "4                                                  |      0   \n",
       "\n",
       "                                      embedded_texts  \n",
       "0  [-0.05825778469443321, -0.05459720641374588, -...  \n",
       "1  [-0.08070644736289978, -0.043665092438459396, ...  \n",
       "2  [-0.046702198684215546, -0.02059364505112171, ...  \n",
       "3  [-0.026915384456515312, -0.07351666688919067, ...  \n",
       "4  [-0.046702198684215546, -0.02059364505112171, ...  "
      ]
     },
     "execution_count": 26,
     "metadata": {},
     "output_type": "execute_result"
    }
   ],
   "source": [
    "df.head()"
   ]
  },
  {
   "cell_type": "code",
   "execution_count": 27,
   "id": "96e2255c-4248-4408-adf3-3fb86c8a72bb",
   "metadata": {},
   "outputs": [],
   "source": [
    "def get_tags(tags_string):\n",
    "    tags_dict = ast.literal_eval(tags_string)\n",
    "    res = []\n",
    "    for val in tags_dict.values():\n",
    "        res.append(val)\n",
    "    return res"
   ]
  },
  {
   "cell_type": "code",
   "execution_count": 28,
   "id": "215651aa-36a9-4275-bd4a-b44e764f2f75",
   "metadata": {},
   "outputs": [],
   "source": [
    "def get_array(array_string):\n",
    "    array = ast.literal_eval(array_string)\n",
    "    return array"
   ]
  },
  {
   "cell_type": "code",
   "execution_count": 50,
   "id": "3d85358f-2bc9-435a-b110-a50c1e82e7a5",
   "metadata": {},
   "outputs": [],
   "source": [
    "def get_graph_embedding(array_string):\n",
    "    res = []\n",
    "    for p in array_string.replace(\"]\", \" \").replace(\"[\", \" \").split():\n",
    "        if len(p) > 0:\n",
    "            try:\n",
    "                f = float(p)\n",
    "                res.append(f)\n",
    "            except:\n",
    "                print(\"baj van\")\n",
    "                continue\n",
    "    if len(res) != 64:\n",
    "        print(\"Nagy baj van\")\n",
    "    return res"
   ]
  },
  {
   "cell_type": "code",
   "execution_count": 30,
   "id": "37c04bdc-016a-4de1-adde-19ce7bbee019",
   "metadata": {},
   "outputs": [],
   "source": [
    "def get_nr_file(filename):\n",
    "    return filename.split(\"_\")[-1].split(\".\")[0]"
   ]
  },
  {
   "cell_type": "code",
   "execution_count": 31,
   "id": "a5924b8a-c4e9-462e-bfe7-a6c8c6599ba3",
   "metadata": {},
   "outputs": [],
   "source": [
    "def get_node_nr(node):\n",
    "    return node.split(\"_\")[1]"
   ]
  },
  {
   "cell_type": "code",
   "execution_count": 32,
   "id": "29781fc7-6219-4152-a0a4-b125ba2d106f",
   "metadata": {},
   "outputs": [
    {
     "data": {
      "text/plain": [
       "64"
      ]
     },
     "execution_count": 32,
     "metadata": {},
     "output_type": "execute_result"
    }
   ],
   "source": [
    "len(get_tags(df.iloc[1]['tags']))"
   ]
  },
  {
   "cell_type": "code",
   "execution_count": 51,
   "id": "53cf9900-7fce-40c4-9b22-1663abb3447d",
   "metadata": {},
   "outputs": [
    {
     "data": {
      "text/plain": [
       "64"
      ]
     },
     "execution_count": 51,
     "metadata": {},
     "output_type": "execute_result"
    }
   ],
   "source": [
    "len(get_graph_embedding(df.iloc[1]['graph_embedding']))"
   ]
  },
  {
   "cell_type": "code",
   "execution_count": 34,
   "id": "57cf98d2-52d7-4b36-8901-06e29596a67b",
   "metadata": {},
   "outputs": [
    {
     "data": {
      "text/plain": [
       "512"
      ]
     },
     "execution_count": 34,
     "metadata": {},
     "output_type": "execute_result"
    }
   ],
   "source": [
    "len(get_array(df.iloc[1]['embedded_texts']))"
   ]
  },
  {
   "cell_type": "code",
   "execution_count": 35,
   "id": "bb7c7a49-b59b-4d3d-8bc3-f882d02b568a",
   "metadata": {},
   "outputs": [
    {
     "data": {
      "text/plain": [
       "'1'"
      ]
     },
     "execution_count": 35,
     "metadata": {},
     "output_type": "execute_result"
    }
   ],
   "source": [
    "get_nr_file(df.iloc[1]['filename'])"
   ]
  },
  {
   "cell_type": "code",
   "execution_count": 36,
   "id": "da46099c-f24e-4f0f-b0cd-61af72143b5f",
   "metadata": {},
   "outputs": [
    {
     "data": {
      "text/plain": [
       "'2'"
      ]
     },
     "execution_count": 36,
     "metadata": {},
     "output_type": "execute_result"
    }
   ],
   "source": [
    "get_node_nr(df.iloc[2]['node_name'])"
   ]
  },
  {
   "cell_type": "code",
   "execution_count": 52,
   "id": "fce8e63d-4619-4a90-8286-debb10e764c8",
   "metadata": {},
   "outputs": [
    {
     "name": "stderr",
     "output_type": "stream",
     "text": [
      "143363it [03:09, 754.63it/s] \n"
     ]
    }
   ],
   "source": [
    "final_df = []\n",
    "lengths = []\n",
    "\n",
    "for _, row in tqdm(df.iterrows()):\n",
    "    nr_file = get_nr_file(row['filename'])\n",
    "    nr_node = get_node_nr(row['node_name'])\n",
    "    tags = get_tags(row['tags'])\n",
    "    embedded_graph = get_graph_embedding(row['graph_embedding'])\n",
    "    embedded_texts = get_array(row['embedded_texts'])\n",
    "    final_df.append([nr_file, nr_node] + tags + embedded_graph + embedded_texts)\n",
    "    lengths.append([len(tags), len(embedded_graph), len(embedded_texts)])\n"
   ]
  },
  {
   "cell_type": "code",
   "execution_count": 53,
   "id": "a71dc9e4-884b-4446-abf9-7708e27db6d6",
   "metadata": {},
   "outputs": [
    {
     "data": {
      "text/plain": [
       "143363"
      ]
     },
     "execution_count": 53,
     "metadata": {},
     "output_type": "execute_result"
    }
   ],
   "source": [
    "len(lengths)"
   ]
  },
  {
   "cell_type": "code",
   "execution_count": 54,
   "id": "fc388e11-dd9c-4a7b-9bb9-ddbcede35c5b",
   "metadata": {},
   "outputs": [
    {
     "data": {
      "text/plain": [
       "143363"
      ]
     },
     "execution_count": 54,
     "metadata": {},
     "output_type": "execute_result"
    }
   ],
   "source": [
    "len(final_df)"
   ]
  },
  {
   "cell_type": "code",
   "execution_count": 62,
   "id": "930a2a1a-e388-4c43-8426-5cad54f4dfef",
   "metadata": {},
   "outputs": [],
   "source": [
    "final_df = pd.DataFrame(final_df)"
   ]
  },
  {
   "cell_type": "code",
   "execution_count": 55,
   "id": "11f0b225-3edb-408d-a483-c2bbe32e22ed",
   "metadata": {},
   "outputs": [],
   "source": [
    "lengths_array = np.asarray(lengths)"
   ]
  },
  {
   "cell_type": "code",
   "execution_count": 56,
   "id": "45437806-8674-4ee4-925b-0822715cf281",
   "metadata": {},
   "outputs": [
    {
     "data": {
      "text/plain": [
       "array([[ 64,  64, 512],\n",
       "       [ 64,  64, 512],\n",
       "       [ 64,  64, 512],\n",
       "       ...,\n",
       "       [ 64,  64, 512],\n",
       "       [ 64,  64, 512],\n",
       "       [ 64,  64, 512]])"
      ]
     },
     "execution_count": 56,
     "metadata": {},
     "output_type": "execute_result"
    }
   ],
   "source": [
    "lengths_array"
   ]
  },
  {
   "cell_type": "code",
   "execution_count": 60,
   "id": "46f6a7f2-0f7b-4ab4-9816-e319b43f4fbc",
   "metadata": {},
   "outputs": [
    {
     "data": {
      "text/plain": [
       "143363.0"
      ]
     },
     "execution_count": 60,
     "metadata": {},
     "output_type": "execute_result"
    }
   ],
   "source": [
    "np.sum(lengths_array[:, 1]) / 64"
   ]
  },
  {
   "cell_type": "code",
   "execution_count": 63,
   "id": "6920fb1c-6976-4168-97cf-e62dc8ce1a9d",
   "metadata": {},
   "outputs": [
    {
     "data": {
      "text/html": [
       "<div>\n",
       "<style scoped>\n",
       "    .dataframe tbody tr th:only-of-type {\n",
       "        vertical-align: middle;\n",
       "    }\n",
       "\n",
       "    .dataframe tbody tr th {\n",
       "        vertical-align: top;\n",
       "    }\n",
       "\n",
       "    .dataframe thead th {\n",
       "        text-align: right;\n",
       "    }\n",
       "</style>\n",
       "<table border=\"1\" class=\"dataframe\">\n",
       "  <thead>\n",
       "    <tr style=\"text-align: right;\">\n",
       "      <th></th>\n",
       "      <th>0</th>\n",
       "      <th>1</th>\n",
       "      <th>2</th>\n",
       "      <th>3</th>\n",
       "      <th>4</th>\n",
       "      <th>5</th>\n",
       "      <th>6</th>\n",
       "      <th>7</th>\n",
       "      <th>8</th>\n",
       "      <th>9</th>\n",
       "      <th>...</th>\n",
       "      <th>632</th>\n",
       "      <th>633</th>\n",
       "      <th>634</th>\n",
       "      <th>635</th>\n",
       "      <th>636</th>\n",
       "      <th>637</th>\n",
       "      <th>638</th>\n",
       "      <th>639</th>\n",
       "      <th>640</th>\n",
       "      <th>641</th>\n",
       "    </tr>\n",
       "  </thead>\n",
       "  <tbody>\n",
       "    <tr>\n",
       "      <th>0</th>\n",
       "      <td>1</td>\n",
       "      <td>0</td>\n",
       "      <td>0</td>\n",
       "      <td>0</td>\n",
       "      <td>0</td>\n",
       "      <td>0</td>\n",
       "      <td>0</td>\n",
       "      <td>0</td>\n",
       "      <td>0</td>\n",
       "      <td>0</td>\n",
       "      <td>...</td>\n",
       "      <td>-0.000592</td>\n",
       "      <td>0.040750</td>\n",
       "      <td>0.023374</td>\n",
       "      <td>-0.009162</td>\n",
       "      <td>0.054658</td>\n",
       "      <td>0.067103</td>\n",
       "      <td>-0.041042</td>\n",
       "      <td>-0.054814</td>\n",
       "      <td>0.058525</td>\n",
       "      <td>-0.004794</td>\n",
       "    </tr>\n",
       "    <tr>\n",
       "      <th>1</th>\n",
       "      <td>1</td>\n",
       "      <td>1</td>\n",
       "      <td>0</td>\n",
       "      <td>0</td>\n",
       "      <td>1</td>\n",
       "      <td>1</td>\n",
       "      <td>2</td>\n",
       "      <td>2</td>\n",
       "      <td>1</td>\n",
       "      <td>1</td>\n",
       "      <td>...</td>\n",
       "      <td>0.053507</td>\n",
       "      <td>-0.099840</td>\n",
       "      <td>0.004646</td>\n",
       "      <td>0.058159</td>\n",
       "      <td>-0.028178</td>\n",
       "      <td>-0.007119</td>\n",
       "      <td>0.028393</td>\n",
       "      <td>-0.038878</td>\n",
       "      <td>0.061012</td>\n",
       "      <td>-0.012936</td>\n",
       "    </tr>\n",
       "    <tr>\n",
       "      <th>2</th>\n",
       "      <td>1</td>\n",
       "      <td>2</td>\n",
       "      <td>0</td>\n",
       "      <td>0</td>\n",
       "      <td>1</td>\n",
       "      <td>1</td>\n",
       "      <td>2</td>\n",
       "      <td>2</td>\n",
       "      <td>1</td>\n",
       "      <td>1</td>\n",
       "      <td>...</td>\n",
       "      <td>0.055856</td>\n",
       "      <td>-0.041606</td>\n",
       "      <td>0.034454</td>\n",
       "      <td>0.060111</td>\n",
       "      <td>-0.052395</td>\n",
       "      <td>0.068730</td>\n",
       "      <td>-0.012220</td>\n",
       "      <td>-0.054667</td>\n",
       "      <td>0.000948</td>\n",
       "      <td>0.034500</td>\n",
       "    </tr>\n",
       "    <tr>\n",
       "      <th>3</th>\n",
       "      <td>1</td>\n",
       "      <td>3</td>\n",
       "      <td>0</td>\n",
       "      <td>0</td>\n",
       "      <td>1</td>\n",
       "      <td>1</td>\n",
       "      <td>2</td>\n",
       "      <td>2</td>\n",
       "      <td>1</td>\n",
       "      <td>1</td>\n",
       "      <td>...</td>\n",
       "      <td>0.045155</td>\n",
       "      <td>-0.094596</td>\n",
       "      <td>-0.066634</td>\n",
       "      <td>0.036554</td>\n",
       "      <td>0.026686</td>\n",
       "      <td>-0.024640</td>\n",
       "      <td>0.034905</td>\n",
       "      <td>-0.044435</td>\n",
       "      <td>0.016929</td>\n",
       "      <td>0.040808</td>\n",
       "    </tr>\n",
       "    <tr>\n",
       "      <th>4</th>\n",
       "      <td>1</td>\n",
       "      <td>4</td>\n",
       "      <td>0</td>\n",
       "      <td>0</td>\n",
       "      <td>1</td>\n",
       "      <td>1</td>\n",
       "      <td>2</td>\n",
       "      <td>2</td>\n",
       "      <td>1</td>\n",
       "      <td>1</td>\n",
       "      <td>...</td>\n",
       "      <td>0.055856</td>\n",
       "      <td>-0.041606</td>\n",
       "      <td>0.034454</td>\n",
       "      <td>0.060111</td>\n",
       "      <td>-0.052395</td>\n",
       "      <td>0.068730</td>\n",
       "      <td>-0.012220</td>\n",
       "      <td>-0.054667</td>\n",
       "      <td>0.000948</td>\n",
       "      <td>0.034500</td>\n",
       "    </tr>\n",
       "  </tbody>\n",
       "</table>\n",
       "<p>5 rows × 642 columns</p>\n",
       "</div>"
      ],
      "text/plain": [
       "  0   1    2    3    4    5    6    7    8    9    ...       632       633  \\\n",
       "0   1   0    0    0    0    0    0    0    0    0  ... -0.000592  0.040750   \n",
       "1   1   1    0    0    1    1    2    2    1    1  ...  0.053507 -0.099840   \n",
       "2   1   2    0    0    1    1    2    2    1    1  ...  0.055856 -0.041606   \n",
       "3   1   3    0    0    1    1    2    2    1    1  ...  0.045155 -0.094596   \n",
       "4   1   4    0    0    1    1    2    2    1    1  ...  0.055856 -0.041606   \n",
       "\n",
       "        634       635       636       637       638       639       640  \\\n",
       "0  0.023374 -0.009162  0.054658  0.067103 -0.041042 -0.054814  0.058525   \n",
       "1  0.004646  0.058159 -0.028178 -0.007119  0.028393 -0.038878  0.061012   \n",
       "2  0.034454  0.060111 -0.052395  0.068730 -0.012220 -0.054667  0.000948   \n",
       "3 -0.066634  0.036554  0.026686 -0.024640  0.034905 -0.044435  0.016929   \n",
       "4  0.034454  0.060111 -0.052395  0.068730 -0.012220 -0.054667  0.000948   \n",
       "\n",
       "        641  \n",
       "0 -0.004794  \n",
       "1 -0.012936  \n",
       "2  0.034500  \n",
       "3  0.040808  \n",
       "4  0.034500  \n",
       "\n",
       "[5 rows x 642 columns]"
      ]
     },
     "execution_count": 63,
     "metadata": {},
     "output_type": "execute_result"
    }
   ],
   "source": [
    "final_df.head()"
   ]
  },
  {
   "cell_type": "code",
   "execution_count": 64,
   "id": "44b3f010-f964-4e8c-9ff2-e3fdae9042be",
   "metadata": {},
   "outputs": [],
   "source": [
    "final_df['label'] = df['label']"
   ]
  },
  {
   "cell_type": "code",
   "execution_count": 65,
   "id": "41744fab-3924-4cd5-863e-54f9b9d37714",
   "metadata": {},
   "outputs": [
    {
     "data": {
      "text/html": [
       "<div>\n",
       "<style scoped>\n",
       "    .dataframe tbody tr th:only-of-type {\n",
       "        vertical-align: middle;\n",
       "    }\n",
       "\n",
       "    .dataframe tbody tr th {\n",
       "        vertical-align: top;\n",
       "    }\n",
       "\n",
       "    .dataframe thead th {\n",
       "        text-align: right;\n",
       "    }\n",
       "</style>\n",
       "<table border=\"1\" class=\"dataframe\">\n",
       "  <thead>\n",
       "    <tr style=\"text-align: right;\">\n",
       "      <th></th>\n",
       "      <th>0</th>\n",
       "      <th>1</th>\n",
       "      <th>2</th>\n",
       "      <th>3</th>\n",
       "      <th>4</th>\n",
       "      <th>5</th>\n",
       "      <th>6</th>\n",
       "      <th>7</th>\n",
       "      <th>8</th>\n",
       "      <th>9</th>\n",
       "      <th>...</th>\n",
       "      <th>633</th>\n",
       "      <th>634</th>\n",
       "      <th>635</th>\n",
       "      <th>636</th>\n",
       "      <th>637</th>\n",
       "      <th>638</th>\n",
       "      <th>639</th>\n",
       "      <th>640</th>\n",
       "      <th>641</th>\n",
       "      <th>label</th>\n",
       "    </tr>\n",
       "  </thead>\n",
       "  <tbody>\n",
       "    <tr>\n",
       "      <th>0</th>\n",
       "      <td>1</td>\n",
       "      <td>0</td>\n",
       "      <td>0</td>\n",
       "      <td>0</td>\n",
       "      <td>0</td>\n",
       "      <td>0</td>\n",
       "      <td>0</td>\n",
       "      <td>0</td>\n",
       "      <td>0</td>\n",
       "      <td>0</td>\n",
       "      <td>...</td>\n",
       "      <td>0.040750</td>\n",
       "      <td>0.023374</td>\n",
       "      <td>-0.009162</td>\n",
       "      <td>0.054658</td>\n",
       "      <td>0.067103</td>\n",
       "      <td>-0.041042</td>\n",
       "      <td>-0.054814</td>\n",
       "      <td>0.058525</td>\n",
       "      <td>-0.004794</td>\n",
       "      <td>0</td>\n",
       "    </tr>\n",
       "    <tr>\n",
       "      <th>1</th>\n",
       "      <td>1</td>\n",
       "      <td>1</td>\n",
       "      <td>0</td>\n",
       "      <td>0</td>\n",
       "      <td>1</td>\n",
       "      <td>1</td>\n",
       "      <td>2</td>\n",
       "      <td>2</td>\n",
       "      <td>1</td>\n",
       "      <td>1</td>\n",
       "      <td>...</td>\n",
       "      <td>-0.099840</td>\n",
       "      <td>0.004646</td>\n",
       "      <td>0.058159</td>\n",
       "      <td>-0.028178</td>\n",
       "      <td>-0.007119</td>\n",
       "      <td>0.028393</td>\n",
       "      <td>-0.038878</td>\n",
       "      <td>0.061012</td>\n",
       "      <td>-0.012936</td>\n",
       "      <td>0</td>\n",
       "    </tr>\n",
       "    <tr>\n",
       "      <th>2</th>\n",
       "      <td>1</td>\n",
       "      <td>2</td>\n",
       "      <td>0</td>\n",
       "      <td>0</td>\n",
       "      <td>1</td>\n",
       "      <td>1</td>\n",
       "      <td>2</td>\n",
       "      <td>2</td>\n",
       "      <td>1</td>\n",
       "      <td>1</td>\n",
       "      <td>...</td>\n",
       "      <td>-0.041606</td>\n",
       "      <td>0.034454</td>\n",
       "      <td>0.060111</td>\n",
       "      <td>-0.052395</td>\n",
       "      <td>0.068730</td>\n",
       "      <td>-0.012220</td>\n",
       "      <td>-0.054667</td>\n",
       "      <td>0.000948</td>\n",
       "      <td>0.034500</td>\n",
       "      <td>0</td>\n",
       "    </tr>\n",
       "    <tr>\n",
       "      <th>3</th>\n",
       "      <td>1</td>\n",
       "      <td>3</td>\n",
       "      <td>0</td>\n",
       "      <td>0</td>\n",
       "      <td>1</td>\n",
       "      <td>1</td>\n",
       "      <td>2</td>\n",
       "      <td>2</td>\n",
       "      <td>1</td>\n",
       "      <td>1</td>\n",
       "      <td>...</td>\n",
       "      <td>-0.094596</td>\n",
       "      <td>-0.066634</td>\n",
       "      <td>0.036554</td>\n",
       "      <td>0.026686</td>\n",
       "      <td>-0.024640</td>\n",
       "      <td>0.034905</td>\n",
       "      <td>-0.044435</td>\n",
       "      <td>0.016929</td>\n",
       "      <td>0.040808</td>\n",
       "      <td>0</td>\n",
       "    </tr>\n",
       "    <tr>\n",
       "      <th>4</th>\n",
       "      <td>1</td>\n",
       "      <td>4</td>\n",
       "      <td>0</td>\n",
       "      <td>0</td>\n",
       "      <td>1</td>\n",
       "      <td>1</td>\n",
       "      <td>2</td>\n",
       "      <td>2</td>\n",
       "      <td>1</td>\n",
       "      <td>1</td>\n",
       "      <td>...</td>\n",
       "      <td>-0.041606</td>\n",
       "      <td>0.034454</td>\n",
       "      <td>0.060111</td>\n",
       "      <td>-0.052395</td>\n",
       "      <td>0.068730</td>\n",
       "      <td>-0.012220</td>\n",
       "      <td>-0.054667</td>\n",
       "      <td>0.000948</td>\n",
       "      <td>0.034500</td>\n",
       "      <td>0</td>\n",
       "    </tr>\n",
       "  </tbody>\n",
       "</table>\n",
       "<p>5 rows × 643 columns</p>\n",
       "</div>"
      ],
      "text/plain": [
       "   0  1  2  3  4  5  6  7  8  9  ...       633       634       635       636  \\\n",
       "0  1  0  0  0  0  0  0  0  0  0  ...  0.040750  0.023374 -0.009162  0.054658   \n",
       "1  1  1  0  0  1  1  2  2  1  1  ... -0.099840  0.004646  0.058159 -0.028178   \n",
       "2  1  2  0  0  1  1  2  2  1  1  ... -0.041606  0.034454  0.060111 -0.052395   \n",
       "3  1  3  0  0  1  1  2  2  1  1  ... -0.094596 -0.066634  0.036554  0.026686   \n",
       "4  1  4  0  0  1  1  2  2  1  1  ... -0.041606  0.034454  0.060111 -0.052395   \n",
       "\n",
       "        637       638       639       640       641  label  \n",
       "0  0.067103 -0.041042 -0.054814  0.058525 -0.004794      0  \n",
       "1 -0.007119  0.028393 -0.038878  0.061012 -0.012936      0  \n",
       "2  0.068730 -0.012220 -0.054667  0.000948  0.034500      0  \n",
       "3 -0.024640  0.034905 -0.044435  0.016929  0.040808      0  \n",
       "4  0.068730 -0.012220 -0.054667  0.000948  0.034500      0  \n",
       "\n",
       "[5 rows x 643 columns]"
      ]
     },
     "execution_count": 65,
     "metadata": {},
     "output_type": "execute_result"
    }
   ],
   "source": [
    "final_df.head()"
   ]
  },
  {
   "cell_type": "code",
   "execution_count": 66,
   "id": "cdca99c0-cb31-4d4a-b919-91a415e34204",
   "metadata": {},
   "outputs": [],
   "source": [
    "final_df.to_csv(\"final_df.csv\", index=None)"
   ]
  },
  {
   "cell_type": "code",
   "execution_count": 69,
   "id": "a2623002-6a98-4472-af98-6c471ada8a66",
   "metadata": {},
   "outputs": [
    {
     "data": {
      "text/html": [
       "<div>\n",
       "<style scoped>\n",
       "    .dataframe tbody tr th:only-of-type {\n",
       "        vertical-align: middle;\n",
       "    }\n",
       "\n",
       "    .dataframe tbody tr th {\n",
       "        vertical-align: top;\n",
       "    }\n",
       "\n",
       "    .dataframe thead th {\n",
       "        text-align: right;\n",
       "    }\n",
       "</style>\n",
       "<table border=\"1\" class=\"dataframe\">\n",
       "  <thead>\n",
       "    <tr style=\"text-align: right;\">\n",
       "      <th></th>\n",
       "      <th>0</th>\n",
       "      <th>1</th>\n",
       "      <th>2</th>\n",
       "      <th>3</th>\n",
       "      <th>4</th>\n",
       "      <th>5</th>\n",
       "      <th>6</th>\n",
       "      <th>7</th>\n",
       "      <th>8</th>\n",
       "      <th>9</th>\n",
       "      <th>...</th>\n",
       "      <th>633</th>\n",
       "      <th>634</th>\n",
       "      <th>635</th>\n",
       "      <th>636</th>\n",
       "      <th>637</th>\n",
       "      <th>638</th>\n",
       "      <th>639</th>\n",
       "      <th>640</th>\n",
       "      <th>641</th>\n",
       "      <th>label</th>\n",
       "    </tr>\n",
       "  </thead>\n",
       "  <tbody>\n",
       "    <tr>\n",
       "      <th>0</th>\n",
       "      <td>1</td>\n",
       "      <td>0</td>\n",
       "      <td>0</td>\n",
       "      <td>0</td>\n",
       "      <td>0</td>\n",
       "      <td>0</td>\n",
       "      <td>0</td>\n",
       "      <td>0</td>\n",
       "      <td>0</td>\n",
       "      <td>0</td>\n",
       "      <td>...</td>\n",
       "      <td>0.040750</td>\n",
       "      <td>0.023374</td>\n",
       "      <td>-0.009162</td>\n",
       "      <td>0.054658</td>\n",
       "      <td>0.067103</td>\n",
       "      <td>-0.041042</td>\n",
       "      <td>-0.054814</td>\n",
       "      <td>0.058525</td>\n",
       "      <td>-0.004794</td>\n",
       "      <td>0</td>\n",
       "    </tr>\n",
       "    <tr>\n",
       "      <th>1</th>\n",
       "      <td>1</td>\n",
       "      <td>1</td>\n",
       "      <td>0</td>\n",
       "      <td>0</td>\n",
       "      <td>1</td>\n",
       "      <td>1</td>\n",
       "      <td>2</td>\n",
       "      <td>2</td>\n",
       "      <td>1</td>\n",
       "      <td>1</td>\n",
       "      <td>...</td>\n",
       "      <td>-0.099840</td>\n",
       "      <td>0.004646</td>\n",
       "      <td>0.058159</td>\n",
       "      <td>-0.028178</td>\n",
       "      <td>-0.007119</td>\n",
       "      <td>0.028393</td>\n",
       "      <td>-0.038878</td>\n",
       "      <td>0.061012</td>\n",
       "      <td>-0.012936</td>\n",
       "      <td>0</td>\n",
       "    </tr>\n",
       "    <tr>\n",
       "      <th>2</th>\n",
       "      <td>1</td>\n",
       "      <td>2</td>\n",
       "      <td>0</td>\n",
       "      <td>0</td>\n",
       "      <td>1</td>\n",
       "      <td>1</td>\n",
       "      <td>2</td>\n",
       "      <td>2</td>\n",
       "      <td>1</td>\n",
       "      <td>1</td>\n",
       "      <td>...</td>\n",
       "      <td>-0.041606</td>\n",
       "      <td>0.034454</td>\n",
       "      <td>0.060111</td>\n",
       "      <td>-0.052395</td>\n",
       "      <td>0.068730</td>\n",
       "      <td>-0.012220</td>\n",
       "      <td>-0.054667</td>\n",
       "      <td>0.000948</td>\n",
       "      <td>0.034500</td>\n",
       "      <td>0</td>\n",
       "    </tr>\n",
       "    <tr>\n",
       "      <th>3</th>\n",
       "      <td>1</td>\n",
       "      <td>3</td>\n",
       "      <td>0</td>\n",
       "      <td>0</td>\n",
       "      <td>1</td>\n",
       "      <td>1</td>\n",
       "      <td>2</td>\n",
       "      <td>2</td>\n",
       "      <td>1</td>\n",
       "      <td>1</td>\n",
       "      <td>...</td>\n",
       "      <td>-0.094596</td>\n",
       "      <td>-0.066634</td>\n",
       "      <td>0.036554</td>\n",
       "      <td>0.026686</td>\n",
       "      <td>-0.024640</td>\n",
       "      <td>0.034905</td>\n",
       "      <td>-0.044435</td>\n",
       "      <td>0.016929</td>\n",
       "      <td>0.040808</td>\n",
       "      <td>0</td>\n",
       "    </tr>\n",
       "    <tr>\n",
       "      <th>4</th>\n",
       "      <td>1</td>\n",
       "      <td>4</td>\n",
       "      <td>0</td>\n",
       "      <td>0</td>\n",
       "      <td>1</td>\n",
       "      <td>1</td>\n",
       "      <td>2</td>\n",
       "      <td>2</td>\n",
       "      <td>1</td>\n",
       "      <td>1</td>\n",
       "      <td>...</td>\n",
       "      <td>-0.041606</td>\n",
       "      <td>0.034454</td>\n",
       "      <td>0.060111</td>\n",
       "      <td>-0.052395</td>\n",
       "      <td>0.068730</td>\n",
       "      <td>-0.012220</td>\n",
       "      <td>-0.054667</td>\n",
       "      <td>0.000948</td>\n",
       "      <td>0.034500</td>\n",
       "      <td>0</td>\n",
       "    </tr>\n",
       "  </tbody>\n",
       "</table>\n",
       "<p>5 rows × 643 columns</p>\n",
       "</div>"
      ],
      "text/plain": [
       "   0  1  2  3  4  5  6  7  8  9  ...       633       634       635       636  \\\n",
       "0  1  0  0  0  0  0  0  0  0  0  ...  0.040750  0.023374 -0.009162  0.054658   \n",
       "1  1  1  0  0  1  1  2  2  1  1  ... -0.099840  0.004646  0.058159 -0.028178   \n",
       "2  1  2  0  0  1  1  2  2  1  1  ... -0.041606  0.034454  0.060111 -0.052395   \n",
       "3  1  3  0  0  1  1  2  2  1  1  ... -0.094596 -0.066634  0.036554  0.026686   \n",
       "4  1  4  0  0  1  1  2  2  1  1  ... -0.041606  0.034454  0.060111 -0.052395   \n",
       "\n",
       "        637       638       639       640       641  label  \n",
       "0  0.067103 -0.041042 -0.054814  0.058525 -0.004794      0  \n",
       "1 -0.007119  0.028393 -0.038878  0.061012 -0.012936      0  \n",
       "2  0.068730 -0.012220 -0.054667  0.000948  0.034500      0  \n",
       "3 -0.024640  0.034905 -0.044435  0.016929  0.040808      0  \n",
       "4  0.068730 -0.012220 -0.054667  0.000948  0.034500      0  \n",
       "\n",
       "[5 rows x 643 columns]"
      ]
     },
     "execution_count": 69,
     "metadata": {},
     "output_type": "execute_result"
    }
   ],
   "source": [
    "pd.read_csv(\"final_df.csv\").head()"
   ]
  },
  {
   "cell_type": "code",
   "execution_count": null,
   "id": "f5aa4da7-c64d-466b-834d-22ce053f4e0f",
   "metadata": {},
   "outputs": [],
   "source": []
  }
 ],
 "metadata": {
  "kernelspec": {
   "display_name": "Python 3 (ipykernel)",
   "language": "python",
   "name": "python3"
  },
  "language_info": {
   "codemirror_mode": {
    "name": "ipython",
    "version": 3
   },
   "file_extension": ".py",
   "mimetype": "text/x-python",
   "name": "python",
   "nbconvert_exporter": "python",
   "pygments_lexer": "ipython3",
   "version": "3.9.18"
  }
 },
 "nbformat": 4,
 "nbformat_minor": 5
}
